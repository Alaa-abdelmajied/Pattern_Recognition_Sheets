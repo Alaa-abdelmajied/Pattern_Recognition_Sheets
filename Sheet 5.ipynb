{
  "nbformat": 4,
  "nbformat_minor": 0,
  "metadata": {
    "colab": {
      "name": "Sheet#5_5591",
      "provenance": [],
      "toc_visible": true,
      "authorship_tag": "ABX9TyO3XKLjMKT8RMzme1Omq+MM",
      "include_colab_link": true
    },
    "kernelspec": {
      "name": "python3",
      "display_name": "Python 3"
    },
    "language_info": {
      "name": "python"
    }
  },
  "cells": [
    {
      "cell_type": "markdown",
      "metadata": {
        "id": "view-in-github",
        "colab_type": "text"
      },
      "source": [
        "<a href=\"https://colab.research.google.com/github/Alaa-abdelmajied/Pattern_Recognition_Sheets/blob/main/Sheet%205.ipynb\" target=\"_parent\"><img src=\"https://colab.research.google.com/assets/colab-badge.svg\" alt=\"Open In Colab\"/></a>"
      ]
    },
    {
      "cell_type": "markdown",
      "metadata": {
        "id": "Q7zSmjkoBG0f"
      },
      "source": [
        "#Used libraries"
      ]
    },
    {
      "cell_type": "code",
      "metadata": {
        "id": "1fGKujAm7-h5"
      },
      "source": [
        "import os\n",
        "import cv2\n",
        "import numpy as np\n",
        "import pandas as pd\n",
        "import matplotlib.pyplot as plt\n",
        "from sklearn.naive_bayes import GaussianNB\n",
        "from sklearn.decomposition import PCA\n",
        "from sklearn import metrics"
      ],
      "execution_count": null,
      "outputs": []
    },
    {
      "cell_type": "markdown",
      "metadata": {
        "id": "8_F4v0MdA_1t"
      },
      "source": [
        "#Reading and spliting the dataset"
      ]
    },
    {
      "cell_type": "code",
      "metadata": {
        "id": "0YPILyZt7gKO"
      },
      "source": [
        "!unzip faces -d dataset"
      ],
      "execution_count": null,
      "outputs": []
    },
    {
      "cell_type": "code",
      "metadata": {
        "id": "Qc1fEUv-7smc"
      },
      "source": [
        "def getDataMatrixFaces (path, imgNum, classNum):\n",
        "  counter = 0\n",
        "  imgSize = 92*112\n",
        "  data = np.zeros((imgNum,imgSize))\n",
        "  labels = np.zeros((imgNum,1))\n",
        "  for folderNum in range(1,classNum+1):\n",
        "    folderPath = 's' + str(folderNum)\n",
        "    folderPath = os.path.join(path,folderPath)\n",
        "    for imageNum in range(1,11):\n",
        "      imagePath = str(imageNum) + '.pgm'\n",
        "      imagePath = os.path.join(folderPath,imagePath)\n",
        "      image = cv2.imread(imagePath,0)\n",
        "      data[counter,:] = image.flatten()\n",
        "      labels[counter] = int(folderNum)\n",
        "      counter += 1\n",
        "  return data, labels"
      ],
      "execution_count": null,
      "outputs": []
    },
    {
      "cell_type": "code",
      "metadata": {
        "id": "CmTVtPzn8Nw-"
      },
      "source": [
        "def splitDataMatrix(data, labels):\n",
        "\n",
        "  imgSize = 92*112\n",
        "\n",
        "  trainData = np.zeros((int(len(data)/2),imgSize))\n",
        "  testData = np.zeros((int(len(data)/2),imgSize))\n",
        "  testCount = 0;\n",
        "\n",
        "  trainLabels = np.zeros((int(len(data)/2),1))\n",
        "  testLabels = np.zeros((int(len(data)/2),1))\n",
        "  trainCount = 0;\n",
        "\n",
        "  for count in range(0,len(data)):\n",
        "    if count%2 == 0:\n",
        "      testData[testCount] = data[count]\n",
        "      testLabels[testCount] = labels[count]\n",
        "      testCount +=1\n",
        "    else:\n",
        "      trainData[trainCount] = data[count]\n",
        "      trainLabels[trainCount] = labels[count]\n",
        "      trainCount +=1\n",
        "  \n",
        "  return trainData, trainLabels, testData, testLabels"
      ],
      "execution_count": null,
      "outputs": []
    },
    {
      "cell_type": "markdown",
      "metadata": {
        "id": "t4RlILhMA74a"
      },
      "source": [
        "#Naive Bayes"
      ]
    },
    {
      "cell_type": "code",
      "metadata": {
        "id": "IBolI6e77MbO"
      },
      "source": [
        "def naiveBayes(trainData,trainLabels,testData,testLabels):\n",
        "  clf = GaussianNB()\n",
        "  clf.fit(trainData, trainLabels.ravel())\n",
        "  pred = clf.predict(testData)\n",
        "  confusionMatrix = metrics.confusion_matrix(testLabels, pred)\n",
        "  accuracy  = metrics.accuracy_score(testLabels,pred)\n",
        "  print('ConfusionMatrix:\\n',confusionMatrix)\n",
        "  print('Accuracy: ',accuracy)"
      ],
      "execution_count": null,
      "outputs": []
    },
    {
      "cell_type": "markdown",
      "metadata": {
        "id": "gogGURdwArYc"
      },
      "source": [
        "# Question 2"
      ]
    },
    {
      "cell_type": "code",
      "metadata": {
        "colab": {
          "base_uri": "https://localhost:8080/"
        },
        "id": "5qsbQZRy7zEk",
        "outputId": "e0f6997e-4739-487e-c972-17e311673030"
      },
      "source": [
        "data,labels= getDataMatrixFaces('/content/dataset', 400,40)\n",
        "trainData, trainLabels, testData, testLabels = splitDataMatrix(data,labels)\n",
        "naiveBayes(trainData, trainLabels, testData, testLabels)"
      ],
      "execution_count": null,
      "outputs": [
        {
          "output_type": "stream",
          "text": [
            "ConfusionMatrix:\n",
            " [[5 0 0 ... 0 0 0]\n",
            " [0 1 0 ... 0 0 0]\n",
            " [0 0 4 ... 0 0 0]\n",
            " ...\n",
            " [0 0 0 ... 4 0 0]\n",
            " [0 0 0 ... 0 5 0]\n",
            " [0 0 0 ... 0 0 2]]\n",
            "Accuracy:  0.715\n"
          ],
          "name": "stdout"
        }
      ]
    },
    {
      "cell_type": "code",
      "metadata": {
        "colab": {
          "base_uri": "https://localhost:8080/"
        },
        "id": "EtaQGTXn8RBZ",
        "outputId": "a57a95f2-6e49-4fff-f2b2-bc3339cfba4d"
      },
      "source": [
        "data,labels= getDataMatrixFaces('/content/dataset', 400,40)\n",
        "trainData, trainLabels, testData, testLabels = splitDataMatrix(data,labels)\n",
        "pca = PCA(n_components=40)\n",
        "reducedTrainData = pca.fit_transform(trainData)\n",
        "reducedTestData = pca.transform(testData)\n",
        "naiveBayes(reducedTrainData, trainLabels, reducedTestData, testLabels)"
      ],
      "execution_count": null,
      "outputs": [
        {
          "output_type": "stream",
          "text": [
            "ConfusionMatrix:\n",
            " [[4 0 0 ... 0 0 0]\n",
            " [0 3 0 ... 0 0 0]\n",
            " [0 0 5 ... 0 0 0]\n",
            " ...\n",
            " [0 0 1 ... 4 0 0]\n",
            " [0 0 0 ... 0 5 0]\n",
            " [1 0 0 ... 0 0 3]]\n",
            "Accuracy:  0.88\n"
          ],
          "name": "stdout"
        }
      ]
    },
    {
      "cell_type": "markdown",
      "metadata": {
        "id": "JgdniGHLA1XR"
      },
      "source": [
        "#Question 3"
      ]
    },
    {
      "cell_type": "markdown",
      "metadata": {
        "id": "p_h3vSRgZNcu"
      },
      "source": [
        "##Prepare dataset\n"
      ]
    },
    {
      "cell_type": "code",
      "metadata": {
        "colab": {
          "base_uri": "https://localhost:8080/",
          "height": 282
        },
        "id": "JLP3OcArA35n",
        "outputId": "c083bff6-b929-48b8-afc1-f36237b70ce8"
      },
      "source": [
        "c1 = np.array([[2,6],[3,5],[4,4],[5,3],[6,2],[6,4],[6,6],[8,4],[9,2],[9,3]])\n",
        "c2 = np.array([[3,3],[4,3],[4,5],[5,5],[7,3],[7,4],[7,5]])\n",
        "c3 = np.array([[7,2],[10,1],[10,3],[10,5],[11,3],[11,4],[12,2],[13,5]])\n",
        "labels = [1,1,1,1,1,1,1,1,1,1,2,2,2,2,2,2,2,3,3,3,3,3,3,3,3]\n",
        "data = np.concatenate((c1, c2, c3), axis=0)\n",
        "print('Data Set:')\n",
        "plt.scatter(data[:, 0], data[:, 1], c=labels, s=50, cmap='viridis')\n",
        "plt.show()"
      ],
      "execution_count": null,
      "outputs": [
        {
          "output_type": "stream",
          "text": [
            "Data Set:\n"
          ],
          "name": "stdout"
        },
        {
          "output_type": "display_data",
          "data": {
            "image/png": "[encoded data removed]",
            "text/plain": [
              "<Figure size 432x288 with 1 Axes>"
            ]
          },
          "metadata": {
            "tags": [],
            "needs_background": "light"
          }
        }
      ]
    },
    {
      "cell_type": "markdown",
      "metadata": {
        "id": "IxJKHTLBZQ6f"
      },
      "source": [
        "##Calculate prior of each class"
      ]
    },
    {
      "cell_type": "code",
      "metadata": {
        "colab": {
          "base_uri": "https://localhost:8080/"
        },
        "id": "CBU_PclhZLp-",
        "outputId": "9538f7e5-d342-4cda-d93d-a31f1936b377"
      },
      "source": [
        "p_c1 = labels.count(1)/len(labels)\n",
        "p_c2 = labels.count(2)/len(labels)\n",
        "p_c3 = labels.count(3)/len(labels)\n",
        "print('Prior of class 1: ',p_c1)\n",
        "print('Prior of class 2: ',p_c2)\n",
        "print('Prior of class 3: ',p_c3)"
      ],
      "execution_count": null,
      "outputs": [
        {
          "output_type": "stream",
          "text": [
            "Prior of class 1:  0.4\n",
            "Prior of class 2:  0.28\n",
            "Prior of class 3:  0.32\n"
          ],
          "name": "stdout"
        }
      ]
    },
    {
      "cell_type": "markdown",
      "metadata": {
        "id": "NHhesxc4ZXWd"
      },
      "source": [
        "##Compute Mean and covariance of each class"
      ]
    },
    {
      "cell_type": "code",
      "metadata": {
        "colab": {
          "base_uri": "https://localhost:8080/"
        },
        "id": "MuNFqiIAZXFY",
        "outputId": "05d7a986-77ea-4cb7-ca38-92a733515019"
      },
      "source": [
        "mean_c1 = np.mean(c1,axis=0)\n",
        "centeredData_c1 = c1 - mean_c1\n",
        "cov_c1 = np.cov(centeredData_c1.transpose())\n",
        "mean_c2 = np.mean(c2,axis=0)\n",
        "centeredData_c2 = c2 - mean_c2\n",
        "cov_c2 =np.cov(centeredData_c2.transpose())\n",
        "mean_c3 = np.mean(c3,axis=0)\n",
        "centeredData_c3 = c3 - mean_c3\n",
        "cov_c3 = np.cov(centeredData_c3.transpose())\n",
        "print('Class 1 mean:\\n',mean_c1)\n",
        "print('Class 1 covariance:\\n',cov_c1)\n",
        "print('Class 2 mean:\\n',mean_c2)\n",
        "print('Class 2 covariance:\\n',cov_c2)\n",
        "print('Class 3 mean:\\n',mean_c3)\n",
        "print('Class 3 covariance:\\n',cov_c3)"
      ],
      "execution_count": null,
      "outputs": [
        {
          "output_type": "stream",
          "text": [
            "Class 1 mean:\n",
            " [5.8 3.9]\n",
            "Class 1 covariance:\n",
            " [[ 5.73333333 -2.13333333]\n",
            " [-2.13333333  2.1       ]]\n",
            "Class 2 mean:\n",
            " [5.28571429 4.        ]\n",
            "Class 2 covariance:\n",
            " [[2.9047619  0.33333333]\n",
            " [0.33333333 1.        ]]\n",
            "Class 3 mean:\n",
            " [10.5    3.125]\n",
            "Class 3 covariance:\n",
            " [[3.14285714 1.07142857]\n",
            " [1.07142857 2.125     ]]\n"
          ],
          "name": "stdout"
        }
      ]
    },
    {
      "cell_type": "markdown",
      "metadata": {
        "id": "M8VVwG7qeHel"
      },
      "source": [
        "##Full Bias"
      ]
    },
    {
      "cell_type": "markdown",
      "metadata": {
        "id": "Q6G57O8J0doI"
      },
      "source": [
        "##Full Bayes"
      ]
    },
    {
      "cell_type": "code",
      "metadata": {
        "id": "m-M0bbCGeG-D"
      },
      "source": [
        "def likehood(mean,cov,point):\n",
        "  fi_x = 1/(np.power(np.sqrt(2*np.pi),2)*np.sqrt(np.linalg.det(cov)))*np.exp(-np.dot((point-mean).T,np.dot(np.linalg.inv(cov),(point-mean)))/2)\n",
        "  return fi_x"
      ],
      "execution_count": null,
      "outputs": []
    },
    {
      "cell_type": "code",
      "metadata": {
        "id": "lLhx8C8xtsey"
      },
      "source": [
        "def fullBayes(point):\n",
        "  class1 = likehood(mean_c1,cov_c1,point)*p_c1\n",
        "  class2 = likehood(mean_c2,cov_c2,point)*p_c2\n",
        "  class3 = likehood(mean_c3,cov_c3,point)*p_c3\n",
        "  max = class1\n",
        "  classified = 1\n",
        "  if class2 > max:\n",
        "    max = class2\n",
        "    classified = 2\n",
        "  if class3 > max:\n",
        "    max = class3\n",
        "    classified = 3\n",
        "  print('Classified to class: ',classified)"
      ],
      "execution_count": null,
      "outputs": []
    },
    {
      "cell_type": "code",
      "metadata": {
        "colab": {
          "base_uri": "https://localhost:8080/"
        },
        "id": "NqXYgpqUvn_N",
        "outputId": "5a3f4d71-48e2-4416-96c0-3d39794a0cc2"
      },
      "source": [
        "print('Full Bayes:')\n",
        "fullBayes([6,5])\n",
        "fullBayes([9,4])\n",
        "fullBayes([8,5])"
      ],
      "execution_count": null,
      "outputs": [
        {
          "output_type": "stream",
          "text": [
            "Full Bayes:\n",
            "Classified to class:  2\n",
            "Classified to class:  3\n",
            "Classified to class:  2\n"
          ],
          "name": "stdout"
        }
      ]
    },
    {
      "cell_type": "markdown",
      "metadata": {
        "id": "IxhyIf_I0g1F"
      },
      "source": [
        "## Naive Bayes"
      ]
    },
    {
      "cell_type": "code",
      "metadata": {
        "id": "oBLpeoqc0ENE"
      },
      "source": [
        "def naiveBayesQ3(point):\n",
        "  clf = GaussianNB()\n",
        "  clf.fit(data, labels)\n",
        "  pred = clf.predict([point])\n",
        "  print('Classified to class: ',pred[0])"
      ],
      "execution_count": null,
      "outputs": []
    },
    {
      "cell_type": "code",
      "metadata": {
        "colab": {
          "base_uri": "https://localhost:8080/"
        },
        "id": "nOBOyAqfzU4Z",
        "outputId": "05fcff91-43a5-4495-f8a9-0d2085f94d0c"
      },
      "source": [
        "print('Naive Bayes:')\n",
        "naiveBayesQ3([6,5])\n",
        "naiveBayesQ3([9,4])\n",
        "naiveBayesQ3([8,5])"
      ],
      "execution_count": null,
      "outputs": [
        {
          "output_type": "stream",
          "text": [
            "Naive Bayes:\n",
            "Classified to class:  2\n",
            "Classified to class:  3\n",
            "Classified to class:  1\n"
          ],
          "name": "stdout"
        }
      ]
    }
  ]
}